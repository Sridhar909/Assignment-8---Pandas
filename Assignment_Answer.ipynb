{
 "cells": [
  {
   "cell_type": "code",
   "execution_count": null,
   "metadata": {},
   "outputs": [],
   "source": [
    "# (Q1). How-to-count-distance-to-the-previous-zero\n",
    "# For each value, count the difference of the distance from the previous zero (or the start of the Series, whichever is closer)\n",
    "# and if there are no previous zeros,print the position\n",
    "# Consider a DataFrame df where there is an integer column {'X':[7, 2, 0, 3, 4, 2, 5, 0, 3, 4]}\n",
    "# The values should therefore be [1, 2, 0, 1, 2, 3, 4, 0, 1, 2]. Make this a new column 'Y'.\n",
    "# import pandas as pd\n",
    "# df = pd.DataFrame({'X': [7, 2, 0, 3, 4, 2, 5, 0, 3, 4]})"
   ]
  },
  {
   "cell_type": "code",
   "execution_count": 1,
   "metadata": {},
   "outputs": [],
   "source": [
    "import pandas as pd\n",
    "\n",
    "s = pd.Series([7, 2, 0, 3, 4, 2, 5, 0, 3, 4])\n",
    "df = pd.DataFrame({'X': [7, 2, 0, 3, 4, 2, 5, 0, 3, 4]})\n",
    "df['Y']=(s.groupby(s.eq(0).cumsum().mask(s.eq(0))).cumcount() + 1).mask(s.eq(0), 0).tolist()"
   ]
  },
  {
   "cell_type": "code",
   "execution_count": 2,
   "metadata": {},
   "outputs": [
    {
     "data": {
      "text/html": [
       "<div>\n",
       "<style scoped>\n",
       "    .dataframe tbody tr th:only-of-type {\n",
       "        vertical-align: middle;\n",
       "    }\n",
       "\n",
       "    .dataframe tbody tr th {\n",
       "        vertical-align: top;\n",
       "    }\n",
       "\n",
       "    .dataframe thead th {\n",
       "        text-align: right;\n",
       "    }\n",
       "</style>\n",
       "<table border=\"1\" class=\"dataframe\">\n",
       "  <thead>\n",
       "    <tr style=\"text-align: right;\">\n",
       "      <th></th>\n",
       "      <th>X</th>\n",
       "      <th>Y</th>\n",
       "    </tr>\n",
       "  </thead>\n",
       "  <tbody>\n",
       "    <tr>\n",
       "      <th>0</th>\n",
       "      <td>7</td>\n",
       "      <td>1</td>\n",
       "    </tr>\n",
       "    <tr>\n",
       "      <th>1</th>\n",
       "      <td>2</td>\n",
       "      <td>2</td>\n",
       "    </tr>\n",
       "    <tr>\n",
       "      <th>2</th>\n",
       "      <td>0</td>\n",
       "      <td>0</td>\n",
       "    </tr>\n",
       "    <tr>\n",
       "      <th>3</th>\n",
       "      <td>3</td>\n",
       "      <td>1</td>\n",
       "    </tr>\n",
       "    <tr>\n",
       "      <th>4</th>\n",
       "      <td>4</td>\n",
       "      <td>2</td>\n",
       "    </tr>\n",
       "    <tr>\n",
       "      <th>5</th>\n",
       "      <td>2</td>\n",
       "      <td>3</td>\n",
       "    </tr>\n",
       "    <tr>\n",
       "      <th>6</th>\n",
       "      <td>5</td>\n",
       "      <td>4</td>\n",
       "    </tr>\n",
       "    <tr>\n",
       "      <th>7</th>\n",
       "      <td>0</td>\n",
       "      <td>0</td>\n",
       "    </tr>\n",
       "    <tr>\n",
       "      <th>8</th>\n",
       "      <td>3</td>\n",
       "      <td>1</td>\n",
       "    </tr>\n",
       "    <tr>\n",
       "      <th>9</th>\n",
       "      <td>4</td>\n",
       "      <td>2</td>\n",
       "    </tr>\n",
       "  </tbody>\n",
       "</table>\n",
       "</div>"
      ],
      "text/plain": [
       "   X  Y\n",
       "0  7  1\n",
       "1  2  2\n",
       "2  0  0\n",
       "3  3  1\n",
       "4  4  2\n",
       "5  2  3\n",
       "6  5  4\n",
       "7  0  0\n",
       "8  3  1\n",
       "9  4  2"
      ]
     },
     "execution_count": 2,
     "metadata": {},
     "output_type": "execute_result"
    }
   ],
   "source": [
    "df"
   ]
  },
  {
   "cell_type": "code",
   "execution_count": null,
   "metadata": {},
   "outputs": [],
   "source": [
    "#==================================================================================================================\n",
    "# (Q2). Create a DatetimeIndex that contains each business day of 2015 and use it to index a series of random numbers.\n",
    "#=================================================================================================================="
   ]
  },
  {
   "cell_type": "code",
   "execution_count": 3,
   "metadata": {},
   "outputs": [],
   "source": [
    "import pandas as pd\n",
    "s = pd.Series({\"2015-01-08\":1,\"2015-01-15\":2,\"2015-01-16\":3,\"2015-01-23\":3})"
   ]
  },
  {
   "cell_type": "code",
   "execution_count": 4,
   "metadata": {},
   "outputs": [],
   "source": [
    "s.index = pd.DatetimeIndex(s.index)\n",
    "bd = pd.bdate_range('2015-01-01', '2015-01-31')\n",
    "s = s.reindex(bd)"
   ]
  },
  {
   "cell_type": "code",
   "execution_count": 5,
   "metadata": {},
   "outputs": [
    {
     "data": {
      "text/plain": [
       "DatetimeIndex(['2015-01-01', '2015-01-02', '2015-01-05', '2015-01-06',\n",
       "               '2015-01-07', '2015-01-08', '2015-01-09', '2015-01-12',\n",
       "               '2015-01-13', '2015-01-14', '2015-01-15', '2015-01-16',\n",
       "               '2015-01-19', '2015-01-20', '2015-01-21', '2015-01-22',\n",
       "               '2015-01-23', '2015-01-26', '2015-01-27', '2015-01-28',\n",
       "               '2015-01-29', '2015-01-30'],\n",
       "              dtype='datetime64[ns]', freq='B')"
      ]
     },
     "execution_count": 5,
     "metadata": {},
     "output_type": "execute_result"
    }
   ],
   "source": [
    "bd"
   ]
  },
  {
   "cell_type": "code",
   "execution_count": null,
   "metadata": {},
   "outputs": [],
   "source": [
    "#==============================================================================\n",
    "# (Q3). Find the sum of the values in s for every Wednesday\n",
    "#=============================================================================="
   ]
  },
  {
   "cell_type": "code",
   "execution_count": 6,
   "metadata": {},
   "outputs": [],
   "source": [
    "from datetime import date, timedelta\n",
    "\n",
    "def get_all_dates_of_day_of_week_in_year(day_of_week, start_year, start_month,start_day, max_weeks=None):\n",
    "  \n",
    "    if day_of_week < 0 or day_of_week > 6:\n",
    "        raise ValueError('day_of_week should be in [0, 6]')\n",
    "\n",
    "    date_iter = date(start_year, start_month, start_day)\n",
    "\n",
    "    # First desired day_of_week\n",
    "    date_iter += timedelta(days=(day_of_week - date_iter.weekday() + 7) % 7) \n",
    "    week = 1\n",
    "    while date_iter.year == start_year:\n",
    "        yield date_iter\n",
    "        date_iter += timedelta(days=7)\n",
    "        if max_weeks is not None:\n",
    "            week += 1\n",
    "            if week > max_weeks:\n",
    "                break "
   ]
  },
  {
   "cell_type": "code",
   "execution_count": 7,
   "metadata": {},
   "outputs": [
    {
     "name": "stdout",
     "output_type": "stream",
     "text": [
      "Wednesday, 2018/1/3\n",
      "Wednesday, 2018/1/10\n",
      "Wednesday, 2018/1/17\n",
      "Wednesday, 2018/1/24\n",
      "Wednesday, 2018/1/31\n",
      "Wednesday, 2018/2/7\n",
      "Wednesday, 2018/2/14\n",
      "Wednesday, 2018/2/21\n",
      "Wednesday, 2018/2/28\n",
      "Wednesday, 2018/3/7\n"
     ]
    }
   ],
   "source": [
    "import calendar\n",
    "day_of_week = 2\n",
    "max_weeks = 10\n",
    "for d in get_all_dates_of_day_of_week_in_year (day_of_week, 2018, 1, 1, max_weeks):\n",
    "    print (\"%s, %d/%d/%d\" % (calendar.day_name[d.weekday()], d.year, d.month, d.day))"
   ]
  },
  {
   "cell_type": "code",
   "execution_count": null,
   "metadata": {},
   "outputs": [],
   "source": [
    "#==============================================================================\n",
    "#4. Average for each calendar month\n",
    "#=============================================================================="
   ]
  },
  {
   "cell_type": "code",
   "execution_count": 8,
   "metadata": {},
   "outputs": [],
   "source": [
    "import pandas as pd\n",
    "import datetime\n",
    "import numpy as np\n",
    "\n",
    "# Create a datetime variable for today\n",
    "base = datetime.datetime.today()\n",
    "# Create a list variable that creates 365 days of rows of datetime values\n",
    "date_list = [base - datetime.timedelta(days=x) for x in range(0, 365)]\n",
    "# Create a list variable of 365 numeric values\n",
    "score_list = list(np.random.randint(low=1, high=1000, size=365))\n",
    "# Create an empty dataframe\n",
    "df = pd.DataFrame()"
   ]
  },
  {
   "cell_type": "code",
   "execution_count": 9,
   "metadata": {},
   "outputs": [
    {
     "data": {
      "text/html": [
       "<div>\n",
       "<style scoped>\n",
       "    .dataframe tbody tr th:only-of-type {\n",
       "        vertical-align: middle;\n",
       "    }\n",
       "\n",
       "    .dataframe tbody tr th {\n",
       "        vertical-align: top;\n",
       "    }\n",
       "\n",
       "    .dataframe thead th {\n",
       "        text-align: right;\n",
       "    }\n",
       "</style>\n",
       "<table border=\"1\" class=\"dataframe\">\n",
       "  <thead>\n",
       "    <tr style=\"text-align: right;\">\n",
       "      <th></th>\n",
       "      <th>score</th>\n",
       "    </tr>\n",
       "    <tr>\n",
       "      <th>datetime</th>\n",
       "      <th></th>\n",
       "    </tr>\n",
       "  </thead>\n",
       "  <tbody>\n",
       "    <tr>\n",
       "      <th>2017-08-31</th>\n",
       "      <td>12707</td>\n",
       "    </tr>\n",
       "    <tr>\n",
       "      <th>2017-09-30</th>\n",
       "      <td>16755</td>\n",
       "    </tr>\n",
       "    <tr>\n",
       "      <th>2017-10-31</th>\n",
       "      <td>16608</td>\n",
       "    </tr>\n",
       "    <tr>\n",
       "      <th>2017-11-30</th>\n",
       "      <td>14092</td>\n",
       "    </tr>\n",
       "    <tr>\n",
       "      <th>2017-12-31</th>\n",
       "      <td>17049</td>\n",
       "    </tr>\n",
       "    <tr>\n",
       "      <th>2018-01-31</th>\n",
       "      <td>13631</td>\n",
       "    </tr>\n",
       "    <tr>\n",
       "      <th>2018-02-28</th>\n",
       "      <td>12273</td>\n",
       "    </tr>\n",
       "    <tr>\n",
       "      <th>2018-03-31</th>\n",
       "      <td>16118</td>\n",
       "    </tr>\n",
       "    <tr>\n",
       "      <th>2018-04-30</th>\n",
       "      <td>16311</td>\n",
       "    </tr>\n",
       "    <tr>\n",
       "      <th>2018-05-31</th>\n",
       "      <td>16820</td>\n",
       "    </tr>\n",
       "    <tr>\n",
       "      <th>2018-06-30</th>\n",
       "      <td>14206</td>\n",
       "    </tr>\n",
       "    <tr>\n",
       "      <th>2018-07-31</th>\n",
       "      <td>17384</td>\n",
       "    </tr>\n",
       "    <tr>\n",
       "      <th>2018-08-31</th>\n",
       "      <td>6291</td>\n",
       "    </tr>\n",
       "  </tbody>\n",
       "</table>\n",
       "</div>"
      ],
      "text/plain": [
       "            score\n",
       "datetime         \n",
       "2017-08-31  12707\n",
       "2017-09-30  16755\n",
       "2017-10-31  16608\n",
       "2017-11-30  14092\n",
       "2017-12-31  17049\n",
       "2018-01-31  13631\n",
       "2018-02-28  12273\n",
       "2018-03-31  16118\n",
       "2018-04-30  16311\n",
       "2018-05-31  16820\n",
       "2018-06-30  14206\n",
       "2018-07-31  17384\n",
       "2018-08-31   6291"
      ]
     },
     "execution_count": 9,
     "metadata": {},
     "output_type": "execute_result"
    }
   ],
   "source": [
    "# Create a column from the datetime variable\n",
    "df['datetime'] = date_list\n",
    "# Convert that column into a datetime datatype\n",
    "df['datetime'] = pd.to_datetime(df['datetime'])\n",
    "# Set the datetime column as the index\n",
    "df.index = df['datetime'] \n",
    "# Create a column from the numeric score variable\n",
    "df['score'] = score_list\n",
    "# Group the data by month, and take the mean for each group (i.e. each month)\n",
    "df.resample('M').mean()\n",
    "# Group the data by month, and take the sum for each group (i.e. each month)\n",
    "df.resample('M').sum()"
   ]
  },
  {
   "cell_type": "code",
   "execution_count": null,
   "metadata": {},
   "outputs": [],
   "source": [
    "#==============================================================================\n",
    "#5. For each group of four consecutive calendar months in s, find the date on which the highest value occurred.\n",
    "#=============================================================================="
   ]
  },
  {
   "cell_type": "code",
   "execution_count": 10,
   "metadata": {},
   "outputs": [],
   "source": [
    "from pandas import DataFrame\n",
    "from datetime import datetime,date\n",
    "\n",
    "#create a dummy dataframe\n",
    "values = []\n",
    "for mo in range(1,13):\n",
    "    row = {}\n",
    "    row[\"date\"]=date(2018,mo,1)\n",
    "    row[\"val\"]=5+0.1*mo\n",
    "    values.append(row)\n",
    "df = DataFrame(values)"
   ]
  },
  {
   "cell_type": "code",
   "execution_count": 11,
   "metadata": {},
   "outputs": [],
   "source": [
    "#create a column which can be ordered and is unique for \n",
    "#every group of successive 4 month\n",
    "#if more than one year is to be considered the lambda function\n",
    "#should cover this as well\n",
    "df[\"quadmester\"]=df[\"date\"].apply(lambda x: (x.month-1)/4)"
   ]
  },
  {
   "cell_type": "code",
   "execution_count": 12,
   "metadata": {},
   "outputs": [],
   "source": [
    "#sort by the added column and then by value\n",
    "#since the date for which top value in 4 consecutive month is considered, sort descending on values\n",
    "df = df.sort_values(by=[\"quadmester\",\"val\"],ascending=[1,0])"
   ]
  },
  {
   "cell_type": "code",
   "execution_count": 13,
   "metadata": {},
   "outputs": [
    {
     "name": "stdout",
     "output_type": "stream",
     "text": [
      "          date  val  quadmester\n",
      "0   2018-01-01  5.1        0.00\n",
      "1   2018-02-01  5.2        0.25\n",
      "2   2018-03-01  5.3        0.50\n",
      "3   2018-04-01  5.4        0.75\n",
      "4   2018-05-01  5.5        1.00\n",
      "5   2018-06-01  5.6        1.25\n",
      "6   2018-07-01  5.7        1.50\n",
      "7   2018-08-01  5.8        1.75\n",
      "8   2018-09-01  5.9        2.00\n",
      "9   2018-10-01  6.0        2.25\n",
      "10  2018-11-01  6.1        2.50\n",
      "11  2018-12-01  6.2        2.75\n"
     ]
    }
   ],
   "source": [
    "#show the dataframe\n",
    "print (df)"
   ]
  }
 ],
 "metadata": {
  "kernelspec": {
   "display_name": "Python 3",
   "language": "python",
   "name": "python3"
  },
  "language_info": {
   "codemirror_mode": {
    "name": "ipython",
    "version": 3
   },
   "file_extension": ".py",
   "mimetype": "text/x-python",
   "name": "python",
   "nbconvert_exporter": "python",
   "pygments_lexer": "ipython3",
   "version": "3.6.5"
  }
 },
 "nbformat": 4,
 "nbformat_minor": 2
}
